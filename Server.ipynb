{
  "nbformat": 4,
  "nbformat_minor": 0,
  "metadata": {
    "colab": {
      "name": "Final_Year_Server.ipynb",
      "provenance": [],
      "collapsed_sections": []
    },
    "kernelspec": {
      "name": "python3",
      "display_name": "Python 3"
    },
    "accelerator": "GPU"
  },
  "cells": [
    {
      "cell_type": "code",
      "metadata": {
        "id": "RROBtkvPeulP",
        "colab": {
          "base_uri": "https://localhost:8080/"
        },
        "outputId": "3509a76a-5e4f-4126-e471-d9d2dd0763e9"
      },
      "source": [
        "!pip install flask_ngrok\n",
        "!pip install flask_restful"
      ],
      "execution_count": null,
      "outputs": [
        {
          "output_type": "stream",
          "text": [
            "Collecting flask_ngrok\n",
            "  Downloading https://files.pythonhosted.org/packages/af/6c/f54cb686ad1129e27d125d182f90f52b32f284e6c8df58c1bae54fa1adbc/flask_ngrok-0.0.25-py3-none-any.whl\n",
            "Requirement already satisfied: requests in /usr/local/lib/python3.6/dist-packages (from flask_ngrok) (2.23.0)\n",
            "Requirement already satisfied: Flask>=0.8 in /usr/local/lib/python3.6/dist-packages (from flask_ngrok) (1.1.2)\n",
            "Requirement already satisfied: urllib3!=1.25.0,!=1.25.1,<1.26,>=1.21.1 in /usr/local/lib/python3.6/dist-packages (from requests->flask_ngrok) (1.24.3)\n",
            "Requirement already satisfied: chardet<4,>=3.0.2 in /usr/local/lib/python3.6/dist-packages (from requests->flask_ngrok) (3.0.4)\n",
            "Requirement already satisfied: idna<3,>=2.5 in /usr/local/lib/python3.6/dist-packages (from requests->flask_ngrok) (2.10)\n",
            "Requirement already satisfied: certifi>=2017.4.17 in /usr/local/lib/python3.6/dist-packages (from requests->flask_ngrok) (2020.12.5)\n",
            "Requirement already satisfied: click>=5.1 in /usr/local/lib/python3.6/dist-packages (from Flask>=0.8->flask_ngrok) (7.1.2)\n",
            "Requirement already satisfied: Jinja2>=2.10.1 in /usr/local/lib/python3.6/dist-packages (from Flask>=0.8->flask_ngrok) (2.11.3)\n",
            "Requirement already satisfied: itsdangerous>=0.24 in /usr/local/lib/python3.6/dist-packages (from Flask>=0.8->flask_ngrok) (1.1.0)\n",
            "Requirement already satisfied: Werkzeug>=0.15 in /usr/local/lib/python3.6/dist-packages (from Flask>=0.8->flask_ngrok) (1.0.1)\n",
            "Requirement already satisfied: MarkupSafe>=0.23 in /usr/local/lib/python3.6/dist-packages (from Jinja2>=2.10.1->Flask>=0.8->flask_ngrok) (1.1.1)\n",
            "Installing collected packages: flask-ngrok\n",
            "Successfully installed flask-ngrok-0.0.25\n",
            "Collecting flask_restful\n",
            "  Downloading https://files.pythonhosted.org/packages/e9/83/d0d33c971de2d38e54b0037136c8b8d20b9c83d308bc6c220a25162755fd/Flask_RESTful-0.3.8-py2.py3-none-any.whl\n",
            "Requirement already satisfied: six>=1.3.0 in /usr/local/lib/python3.6/dist-packages (from flask_restful) (1.15.0)\n",
            "Requirement already satisfied: Flask>=0.8 in /usr/local/lib/python3.6/dist-packages (from flask_restful) (1.1.2)\n",
            "Requirement already satisfied: pytz in /usr/local/lib/python3.6/dist-packages (from flask_restful) (2018.9)\n",
            "Collecting aniso8601>=0.82\n",
            "\u001b[?25l  Downloading https://files.pythonhosted.org/packages/2c/09/c26ecac7a5e187db69380e66cbad27f8d53ae98b3d5188af08fdd5e34d9f/aniso8601-8.1.1-py2.py3-none-any.whl (44kB)\n",
            "\u001b[K     |████████████████████████████████| 51kB 6.2MB/s \n",
            "\u001b[?25hRequirement already satisfied: Werkzeug>=0.15 in /usr/local/lib/python3.6/dist-packages (from Flask>=0.8->flask_restful) (1.0.1)\n",
            "Requirement already satisfied: Jinja2>=2.10.1 in /usr/local/lib/python3.6/dist-packages (from Flask>=0.8->flask_restful) (2.11.3)\n",
            "Requirement already satisfied: click>=5.1 in /usr/local/lib/python3.6/dist-packages (from Flask>=0.8->flask_restful) (7.1.2)\n",
            "Requirement already satisfied: itsdangerous>=0.24 in /usr/local/lib/python3.6/dist-packages (from Flask>=0.8->flask_restful) (1.1.0)\n",
            "Requirement already satisfied: MarkupSafe>=0.23 in /usr/local/lib/python3.6/dist-packages (from Jinja2>=2.10.1->Flask>=0.8->flask_restful) (1.1.1)\n",
            "Installing collected packages: aniso8601, flask-restful\n",
            "Successfully installed aniso8601-8.1.1 flask-restful-0.3.8\n"
          ],
          "name": "stdout"
        }
      ]
    },
    {
      "cell_type": "code",
      "metadata": {
        "id": "xW84jtVde3wm"
      },
      "source": [
        "import math\n",
        "import numpy as np\n",
        "from numpy import savetxt\n",
        "from numpy import asarray\n",
        "import pandas as pd \n",
        "import matplotlib.pyplot as plt\n",
        "from tensorflow.keras.models import Model,load_model\n",
        "from flask import Flask,request,jsonify,request, send_file, Response, make_response\n",
        "from flask_ngrok import run_with_ngrok\n",
        "from io import StringIO, BytesIO\n",
        "from matplotlib.backends.backend_agg import FigureCanvasAgg as FigureCanvas\n",
        "from matplotlib.figure import Figure\n",
        "import json\n",
        "from flask_restful  import Resource, Api"
      ],
      "execution_count": null,
      "outputs": []
    },
    {
      "cell_type": "code",
      "metadata": {
        "id": "pXH0sL8je31h",
        "colab": {
          "base_uri": "https://localhost:8080/"
        },
        "outputId": "859311ab-de2f-4ddf-f00a-120564891ab3"
      },
      "source": [
        "from google.colab import drive\n",
        "drive.mount('/content/gdrive')"
      ],
      "execution_count": null,
      "outputs": [
        {
          "output_type": "stream",
          "text": [
            "Mounted at /content/gdrive\n"
          ],
          "name": "stdout"
        }
      ]
    },
    {
      "cell_type": "code",
      "metadata": {
        "id": "EhvPUvKMe3zS"
      },
      "source": [
        "model=load_model(\"/content/gdrive/My Drive/ECG_data/ecg.h5\")"
      ],
      "execution_count": null,
      "outputs": []
    },
    {
      "cell_type": "code",
      "metadata": {
        "id": "lJ091k7EfCD5",
        "colab": {
          "base_uri": "https://localhost:8080/"
        },
        "outputId": "5020d59d-2a65-4715-9210-ffe2008f7969"
      },
      "source": [
        "y=0\n",
        "app = Flask(__name__)\n",
        "run_with_ngrok(app) \n",
        "@app.route('/graph',methods=['GET'])\n",
        "def grapg():\n",
        "  plt.close()\n",
        "  fig = Figure()\n",
        "  s_n = int(request.args['dat'])\n",
        "  df3 = pd.read_csv(\"/content/gdrive/My Drive/ECG_data/mitbih_test.csv\", header=None)\n",
        "  plt.figure(1)\n",
        "  plt.plot(df3.iloc[s_n,:186])\n",
        "  canvas = FigureCanvas(plt.figure(1))\n",
        "  output = BytesIO()\n",
        "  canvas.print_png(output)\n",
        "  response = make_response(output.getvalue())\n",
        "  response.mimetype = 'image/png'\n",
        "  return response\n",
        "@app.route('/predict',methods=['GET'])\n",
        "def predict():\n",
        "  fig = Figure()\n",
        "  s_n = int(request.args['dat'])\n",
        "  if s_n<=21000:\n",
        "    df3 = pd.read_csv(\"/content/gdrive/My Drive/ECG_data/mitbih_test.csv\", header=None)\n",
        "    M = df3.values\n",
        "    Xtest = M[s_n:s_n+1, :-1] \n",
        "    plt.plot(df3.iloc[s_n,:186]) \n",
        "    ypred = model.predict(np.expand_dims(Xtest,2))\n",
        "    y_p_r=np.around(ypred).astype(int)\n",
        "    y=0\n",
        "    for n in range(0,4):\n",
        "     if y_p_r[:,n:n+1]==1:\n",
        "        break\n",
        "     y=y+1\n",
        "    if y==0:\n",
        "      return \"0\"#\"Normal\"\n",
        "    elif y==1:\n",
        "      return \"1\"#\"Artial Premature\"\n",
        "    elif y==2:\n",
        "      return \"2\"#\"Premature ventricular conraction\"\n",
        "    elif y==3:\n",
        "      return \"3\"#\"Fusion of ventricular and normal\"\n",
        "    else:\n",
        "      return \"4\"#\"Fusion of paced and normal\"\n",
        "  else:\n",
        "    return \"5\"\n",
        "\n",
        "if __name__ == '__main__':\n",
        "    app.run()"
      ],
      "execution_count": null,
      "outputs": [
        {
          "output_type": "stream",
          "text": [
            " * Serving Flask app \"__main__\" (lazy loading)\n",
            " * Environment: production\n",
            "\u001b[31m   WARNING: This is a development server. Do not use it in a production deployment.\u001b[0m\n",
            "\u001b[2m   Use a production WSGI server instead.\u001b[0m\n",
            " * Debug mode: off\n"
          ],
          "name": "stdout"
        },
        {
          "output_type": "stream",
          "text": [
            " * Running on http://127.0.0.1:5000/ (Press CTRL+C to quit)\n"
          ],
          "name": "stderr"
        },
        {
          "output_type": "stream",
          "text": [
            " * Running on http://5877c18afd9d.ngrok.io\n",
            " * Traffic stats available on http://127.0.0.1:4040\n"
          ],
          "name": "stdout"
        },
        {
          "output_type": "stream",
          "text": [
            "127.0.0.1 - - [11/Feb/2021 06:24:19] \"\u001b[33mGET / HTTP/1.1\u001b[0m\" 404 -\n",
            "127.0.0.1 - - [11/Feb/2021 06:24:19] \"\u001b[33mGET /favicon.ico HTTP/1.1\u001b[0m\" 404 -\n",
            "127.0.0.1 - - [11/Feb/2021 06:24:38] \"\u001b[37mGET /graph?dat=1 HTTP/1.1\u001b[0m\" 200 -\n",
            "127.0.0.1 - - [11/Feb/2021 06:25:01] \"\u001b[37mGET /graph?dat=20000 HTTP/1.1\u001b[0m\" 200 -\n",
            "127.0.0.1 - - [11/Feb/2021 06:25:54] \"\u001b[37mGET /predict?dat=20000 HTTP/1.1\u001b[0m\" 200 -\n",
            "127.0.0.1 - - [11/Feb/2021 06:26:28] \"\u001b[37mGET /predict?dat=1 HTTP/1.1\u001b[0m\" 200 -\n",
            "127.0.0.1 - - [11/Feb/2021 06:26:41] \"\u001b[37mGET /graph?dat=2 HTTP/1.1\u001b[0m\" 200 -\n"
          ],
          "name": "stderr"
        }
      ]
    },
    {
      "cell_type": "code",
      "metadata": {
        "colab": {
          "base_uri": "https://localhost:8080/",
          "height": 1000
        },
        "id": "Cebag7vvB_uz",
        "outputId": "19d6d806-34ae-4abc-eca7-53676578a8ec"
      },
      "source": [
        "df3 = pd.read_csv(\"/content/gdrive/My Drive/ECG_data/mitbih_test.csv\", header=None)\n",
        "s_n = 20\n",
        "M = df3.values\n",
        "Xtest = M[s_n:s_n+1, :-1] \n",
        "plt.plot(df3.iloc[s_n,:186]) \n",
        "print(np.expand_dims(Xtest,2))\n",
        "ypred = model.predict(np.expand_dims(Xtest,2))"
      ],
      "execution_count": null,
      "outputs": [
        {
          "output_type": "stream",
          "text": [
            "[[[0.90163934]\n",
            "  [0.90163934]\n",
            "  [0.67759562]\n",
            "  [0.41530055]\n",
            "  [0.22404371]\n",
            "  [0.14754099]\n",
            "  [0.1147541 ]\n",
            "  [0.10928962]\n",
            "  [0.12021858]\n",
            "  [0.13114753]\n",
            "  [0.14754099]\n",
            "  [0.13114753]\n",
            "  [0.13114753]\n",
            "  [0.15300547]\n",
            "  [0.1693989 ]\n",
            "  [0.16393442]\n",
            "  [0.14754099]\n",
            "  [0.18032786]\n",
            "  [0.18579236]\n",
            "  [0.19672132]\n",
            "  [0.17486338]\n",
            "  [0.19672132]\n",
            "  [0.19125684]\n",
            "  [0.20218579]\n",
            "  [0.20765027]\n",
            "  [0.22404371]\n",
            "  [0.24043716]\n",
            "  [0.23497267]\n",
            "  [0.23497267]\n",
            "  [0.26775956]\n",
            "  [0.27868852]\n",
            "  [0.27322406]\n",
            "  [0.27868852]\n",
            "  [0.28961748]\n",
            "  [0.29508197]\n",
            "  [0.27868852]\n",
            "  [0.2568306 ]\n",
            "  [0.24590164]\n",
            "  [0.24590164]\n",
            "  [0.20765027]\n",
            "  [0.1693989 ]\n",
            "  [0.14207651]\n",
            "  [0.12568305]\n",
            "  [0.09289618]\n",
            "  [0.06557377]\n",
            "  [0.08743169]\n",
            "  [0.09289618]\n",
            "  [0.07650273]\n",
            "  [0.05464481]\n",
            "  [0.07103825]\n",
            "  [0.07650273]\n",
            "  [0.06010929]\n",
            "  [0.03825137]\n",
            "  [0.06010929]\n",
            "  [0.06010929]\n",
            "  [0.03278688]\n",
            "  [0.0273224 ]\n",
            "  [0.04371585]\n",
            "  [0.03278688]\n",
            "  [0.01639344]\n",
            "  [0.01639344]\n",
            "  [0.03825137]\n",
            "  [0.03825137]\n",
            "  [0.0273224 ]\n",
            "  [0.01092896]\n",
            "  [0.0273224 ]\n",
            "  [0.04371585]\n",
            "  [0.0273224 ]\n",
            "  [0.01092896]\n",
            "  [0.01092896]\n",
            "  [0.03825137]\n",
            "  [0.01639344]\n",
            "  [0.        ]\n",
            "  [0.0273224 ]\n",
            "  [0.05464481]\n",
            "  [0.0273224 ]\n",
            "  [0.01639344]\n",
            "  [0.04371585]\n",
            "  [0.04371585]\n",
            "  [0.0273224 ]\n",
            "  [0.02185792]\n",
            "  [0.03825137]\n",
            "  [0.03825137]\n",
            "  [0.04371585]\n",
            "  [0.04371585]\n",
            "  [0.06010929]\n",
            "  [0.06557377]\n",
            "  [0.04918033]\n",
            "  [0.03825137]\n",
            "  [0.06010929]\n",
            "  [0.07103825]\n",
            "  [0.05464481]\n",
            "  [0.02185792]\n",
            "  [0.05464481]\n",
            "  [0.04918033]\n",
            "  [0.04371585]\n",
            "  [0.04918033]\n",
            "  [0.06557377]\n",
            "  [0.06557377]\n",
            "  [0.03825137]\n",
            "  [0.04918033]\n",
            "  [0.06010929]\n",
            "  [0.04918033]\n",
            "  [0.03278688]\n",
            "  [0.04371585]\n",
            "  [0.08196721]\n",
            "  [0.12568305]\n",
            "  [0.12021858]\n",
            "  [0.1147541 ]\n",
            "  [0.13114753]\n",
            "  [0.15300547]\n",
            "  [0.10928962]\n",
            "  [0.10928962]\n",
            "  [0.13114753]\n",
            "  [0.10928962]\n",
            "  [0.08743169]\n",
            "  [0.0273224 ]\n",
            "  [0.06557377]\n",
            "  [0.09289618]\n",
            "  [0.07103825]\n",
            "  [0.05464481]\n",
            "  [0.12021858]\n",
            "  [0.2568306 ]\n",
            "  [0.51366121]\n",
            "  [0.77049178]\n",
            "  [0.90710384]\n",
            "  [1.        ]\n",
            "  [0.89617485]\n",
            "  [0.60655737]\n",
            "  [0.40983605]\n",
            "  [0.23497267]\n",
            "  [0.10382514]\n",
            "  [0.07103825]\n",
            "  [0.08743169]\n",
            "  [0.10382514]\n",
            "  [0.09836066]\n",
            "  [0.09289618]\n",
            "  [0.10928962]\n",
            "  [0.13114753]\n",
            "  [0.12021858]\n",
            "  [0.1147541 ]\n",
            "  [0.13114753]\n",
            "  [0.15846995]\n",
            "  [0.15300547]\n",
            "  [0.13114753]\n",
            "  [0.13661203]\n",
            "  [0.17486338]\n",
            "  [0.16393442]\n",
            "  [0.14754099]\n",
            "  [0.18579236]\n",
            "  [0.19672132]\n",
            "  [0.        ]\n",
            "  [0.        ]\n",
            "  [0.        ]\n",
            "  [0.        ]\n",
            "  [0.        ]\n",
            "  [0.        ]\n",
            "  [0.        ]\n",
            "  [0.        ]\n",
            "  [0.        ]\n",
            "  [0.        ]\n",
            "  [0.        ]\n",
            "  [0.        ]\n",
            "  [0.        ]\n",
            "  [0.        ]\n",
            "  [0.        ]\n",
            "  [0.        ]\n",
            "  [0.        ]\n",
            "  [0.        ]\n",
            "  [0.        ]\n",
            "  [0.        ]\n",
            "  [0.        ]\n",
            "  [0.        ]\n",
            "  [0.        ]\n",
            "  [0.        ]\n",
            "  [0.        ]\n",
            "  [0.        ]\n",
            "  [0.        ]\n",
            "  [0.        ]\n",
            "  [0.        ]\n",
            "  [0.        ]\n",
            "  [0.        ]\n",
            "  [0.        ]\n",
            "  [0.        ]\n",
            "  [0.        ]\n",
            "  [0.        ]\n",
            "  [0.        ]]]\n"
          ],
          "name": "stdout"
        },
        {
          "output_type": "display_data",
          "data": {
            "image/png": "[encoded data removed]",
            "text/plain": [
              "<Figure size 432x288 with 1 Axes>"
            ]
          },
          "metadata": {
            "tags": [],
            "needs_background": "light"
          }
        }
      ]
    }
  ]
}